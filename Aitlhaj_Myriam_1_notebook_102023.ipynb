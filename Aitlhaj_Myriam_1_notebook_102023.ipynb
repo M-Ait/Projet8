import numpy as np
import pandas as pd
import matplotlib.pyplot as plt
import seaborn as sns

from keras.preprocessing.image import load_img
from keras.preprocessing.image import img_to_array
from matplotlib.image import imread
import cv2

#amazon
import boto3

#classification
from sklearn.manifold import TSNE
